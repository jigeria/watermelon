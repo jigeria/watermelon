{
 "cells": [
  {
   "cell_type": "code",
   "execution_count": 20,
   "metadata": {},
   "outputs": [],
   "source": [
    "import httpx\n",
    "\n",
    "from loguru import logger\n",
    "\n",
    "\n",
    "class Downloader(httpx.Client):\n",
    "    def __init__(\n",
    "        self,\n",
    "        url: str = None,\n",
    "        api_key: str = None,\n",
    "    ) -> None:\n",
    "        super(Downloader, self).__init__(\n",
    "            base_url=url,\n",
    "            headers={\n",
    "                \"Content-Type\": \"application/json\",\n",
    "            },\n",
    "            timeout=30,\n",
    "        )\n",
    "\n",
    "        self.query_params = {\"apiKey\": api_key}\n",
    "\n",
    "    def get_all_audio_files(self):\n",
    "        response: httpx.Response = self.get(f\"/api/getMp3s\", params=self.query_params)\n",
    "\n",
    "        if response.status_code != 200:\n",
    "            raise Exception(response.json())\n",
    "\n",
    "        return response.json()\n",
    "\n",
    "    def download_file(self, link: str = None):\n",
    "        body = {\n",
    "            \"url\": link,\n",
    "            \"type\": \"audio\",\n",
    "            \"cropFileSettings\": {\"cropFileStart\": 0, \"cropFileEnd\": 0},\n",
    "        }\n",
    "\n",
    "        response: httpx.Response = self.post(f\"/api/downloadFile\", json=body, params=self.query_params)\n",
    "\n",
    "        if response.status_code != 200:\n",
    "            raise Exception(response.json())\n",
    "\n",
    "        return True\n"
   ]
  },
  {
   "cell_type": "code",
   "execution_count": 23,
   "metadata": {},
   "outputs": [
    {
     "name": "stdout",
     "output_type": "stream",
     "text": [
      "title: Maroon 5 - Sugar (Lyrics) link: https://www.youtube.com/watch?v=N1BcpzPGlYQ\n"
     ]
    },
    {
     "data": {
      "text/plain": [
       "True"
      ]
     },
     "execution_count": 23,
     "metadata": {},
     "output_type": "execute_result"
    }
   ],
   "source": [
    "from youtubesearchpython import VideosSearch\n",
    "\n",
    "\n",
    "singer = \"Marron 5\"\n",
    "title = \"Sugar\"\n",
    "search_results = VideosSearch(f'{singer} - {title} Lyrics', limit = 1).result()[\"result\"]\n",
    "\n",
    "title = search_results[0][\"title\"]\n",
    "link = search_results[0][\"link\"]\n",
    "\n",
    "print(f\"title: {title} link: {link}\")\n",
    "\n",
    "downloader = Downloader(\n",
    "    url=\"http://localhost:8998\", api_key=\"9a49884a-ffe7-4d4e-8ccd-6a313e31c760\"\n",
    ")\n",
    "# audios_info = downloader.get_all_audio_files()\n",
    "# logger.info(f\"Number of audio files: {len(audios_info['mp3s'])}\")\n",
    "\n",
    "downloader.download_file(link=link)\n"
   ]
  },
  {
   "cell_type": "code",
   "execution_count": null,
   "metadata": {},
   "outputs": [],
   "source": []
  }
 ],
 "metadata": {
  "kernelspec": {
   "display_name": "Python 3",
   "language": "python",
   "name": "python3"
  },
  "language_info": {
   "codemirror_mode": {
    "name": "ipython",
    "version": 3
   },
   "file_extension": ".py",
   "mimetype": "text/x-python",
   "name": "python",
   "nbconvert_exporter": "python",
   "pygments_lexer": "ipython3",
   "version": "3.11.2"
  },
  "orig_nbformat": 4
 },
 "nbformat": 4,
 "nbformat_minor": 2
}
