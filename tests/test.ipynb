{
 "cells": [
  {
   "cell_type": "code",
   "execution_count": 11,
   "metadata": {},
   "outputs": [
    {
     "name": "stderr",
     "output_type": "stream",
     "text": [
      "2023-03-18 16:17:26.803 | INFO     | __main__:<module>:48 - Number of audio files: 3\n"
     ]
    },
    {
     "data": {
      "text/plain": [
       "b'{\"download\":{\"url\":\"https://youtu.be/PqX8aA6w4bM\",\"type\":\"audio\",\"title\":\"\",\"user_uid\":null,\"sub_id\":null,\"sub_name\":null,\"prefetched_info\":null,\"options\":{\"cropFileSettings\":{\"cropFileStart\":0,\"cropFileEnd\":0}},\"uid\":\"d27514a8-f1db-4acd-8ad0-d35870e809f8\",\"step_index\":0,\"paused\":false,\"running\":false,\"finished_step\":true,\"error\":null,\"percent_complete\":null,\"finished\":false,\"timestamp_start\":1679123846808,\"_id\":\"64156586ba598800321debf8\"}}'"
      ]
     },
     "execution_count": 11,
     "metadata": {},
     "output_type": "execute_result"
    }
   ],
   "source": [
    "import httpx\n",
    "from loguru import logger\n",
    "\n",
    "\n",
    "class Downloader(httpx.Client):\n",
    "    def __init__(\n",
    "        self,\n",
    "        url: str = None,\n",
    "        api_key: str = None,\n",
    "    ) -> None:\n",
    "        super(Downloader, self).__init__(\n",
    "            base_url=url,\n",
    "            headers={\n",
    "                \"Content-Type\": \"application/json\",\n",
    "            },\n",
    "            timeout=30,\n",
    "        )\n",
    "\n",
    "        self.query_params = {\"apiKey\": api_key}\n",
    "\n",
    "    def get_all_audio_files(self):\n",
    "        response: httpx.Response = self.get(f\"/api/getMp3s\", params=self.query_params)\n",
    "\n",
    "        if response.status_code != 200:\n",
    "            raise Exception(response.json())\n",
    "\n",
    "        return response.json()\n",
    "\n",
    "    def download_file(self, link: str = None):\n",
    "        body = {\n",
    "            \"url\": link,\n",
    "            \"type\": \"audio\",\n",
    "            \"cropFileSettings\": {\"cropFileStart\": 0, \"cropFileEnd\": 0},\n",
    "        }\n",
    "\n",
    "        response: httpx.Response = self.post(f\"/api/downloadFile\", json=body, params=self.query_params)\n",
    "\n",
    "        if response.status_code != 200:\n",
    "            raise Exception(response.json())\n",
    "\n",
    "        return True\n",
    "\n",
    "\n",
    "downloader = Downloader(\n",
    "    url=\"http://localhost:8998\", api_key=\"7aee05f0-61e6-45c9-8ce7-e2b8544e9905\"\n",
    ")\n",
    "audios_info = downloader.get_all_audio_files()\n",
    "logger.info(f\"Number of audio files: {len(audios_info['mp3s'])}\")\n",
    "\n",
    "downloader.download_file(link=\"https://youtu.be/PqX8aA6w4bM\")"
   ]
  },
  {
   "cell_type": "code",
   "execution_count": null,
   "metadata": {},
   "outputs": [],
   "source": []
  }
 ],
 "metadata": {
  "kernelspec": {
   "display_name": "Python 3",
   "language": "python",
   "name": "python3"
  },
  "language_info": {
   "codemirror_mode": {
    "name": "ipython",
    "version": 3
   },
   "file_extension": ".py",
   "mimetype": "text/x-python",
   "name": "python",
   "nbconvert_exporter": "python",
   "pygments_lexer": "ipython3",
   "version": "3.11.2"
  },
  "orig_nbformat": 4
 },
 "nbformat": 4,
 "nbformat_minor": 2
}
