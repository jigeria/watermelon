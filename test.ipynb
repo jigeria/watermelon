{
 "cells": [
  {
   "cell_type": "code",
   "execution_count": 6,
   "metadata": {},
   "outputs": [
    {
     "name": "stdout",
     "output_type": "stream",
     "text": [
      "200\n",
      "b'{\"mp3s\":[{\"_id\":\"6411988d009c4d0031db4103\",\"id\":\"[Lyrics Video] Turtles(\\xea\\xb1\\xb0\\xeb\\xb6\\x81\\xec\\x9d\\xb4) - Airplane(\\xeb\\xb9\\x84\\xed\\x96\\x89\\xea\\xb8\\xb0)\",\"title\":\"[Lyrics Video] Turtles(\\xea\\xb1\\xb0\\xeb\\xb6\\x81\\xec\\x9d\\xb4) - Airplane(\\xeb\\xb9\\x84\\xed\\x96\\x89\\xea\\xb8\\xb0)\",\"thumbnailURL\":\"https://i.ytimg.com/vi/-CYezUeha1Q/sddefault.jpg\",\"isAudio\":true,\"duration\":213,\"url\":\"https://www.youtube.com/watch?v=-CYezUeha1Q\",\"uploader\":\"SUPER SOUND Bugs!\",\"size\":7419588,\"path\":\"audio/[Lyrics Video] Turtles(\\xea\\xb1\\xb0\\xeb\\xb6\\x81\\xec\\x9d\\xb4) - Airplane(\\xeb\\xb9\\x84\\xed\\x96\\x89\\xea\\xb8\\xb0).mp3\",\"upload_date\":\"2022-10-31\",\"description\":\"[Lyrics Video] Turtles(\\xea\\xb1\\xb0\\xeb\\xb6\\x81\\xec\\x9d\\xb4) - Airplane(\\xeb\\xb9\\x84\\xed\\x96\\x89\\xea\\xb8\\xb0)\\\\n\\\\nTurtles\\'s Album [\\xea\\xb1\\xb0\\xeb\\xb6\\x81\\xec\\x9d\\xb4 \\xec\\x82\\xac\\xec\\x9a\\x94!!]\\\\n\\\\nNow Available on : \\\\n\\xe2\\x96\\xb6Bugs : http://music.bugs.co.kr/album/8020122\\\\n\\\\n#Turtles #\\xea\\xb1\\xb0\\xeb\\xb6\\x81\\xec\\x9d\\xb4 #\\xeb\\xb9\\x84\\xed\\x96\\x89\\xea\\xb8\\xb0\\\\n\\\\nSUPER SOUND, BUGS!\\\\nhttp://www.bugs.co.kr\",\"view_count\":462216,\"height\":null,\"abr\":129.769,\"thumbnailPath\":\"audio/[Lyrics Video] Turtles(\\xea\\xb1\\xb0\\xeb\\xb6\\x81\\xec\\x9d\\xb4) - Airplane(\\xeb\\xb9\\x84\\xed\\x96\\x89\\xea\\xb8\\xb0).webp\",\"uid\":\"c68fe97c-00a3-48c4-b1a3-ad1e044e3a0c\",\"registered\":1678874765980},{\"_id\":\"6411a05b009c4d0031db4105\",\"id\":\"Christopher, CHUNG HA (\\xed\\x81\\xac\\xeb\\xa6\\xac\\xec\\x8a\\xa4\\xed\\x86\\xa0\\xed\\x8d\\xbc, \\xec\\xb2\\xad\\xed\\x95\\x98) - When I Get Old\",\"title\":\"Christopher, CHUNG HA (\\xed\\x81\\xac\\xeb\\xa6\\xac\\xec\\x8a\\xa4\\xed\\x86\\xa0\\xed\\x8d\\xbc, \\xec\\xb2\\xad\\xed\\x95\\x98) - When I Get Old\",\"thumbnailURL\":\"https://i.ytimg.com/vi/Ua3aNDJE_Cg/maxresdefault.jpg\",\"isAudio\":true,\"duration\":195,\"url\":\"https://www.youtube.com/watch?v=Ua3aNDJE_Cg\",\"uploader\":\"\\xec\\x9b\\x8c\\xeb\\x84\\x88\\xeb\\xae\\xa4\\xec\\xa7\\x81\\xec\\xbd\\x94\\xeb\\xa6\\xac\\xec\\x95\\x84 (Warner Music Korea)\",\"size\":3126127,\"path\":\"audio/Christopher, CHUNG HA (\\xed\\x81\\xac\\xeb\\xa6\\xac\\xec\\x8a\\xa4\\xed\\x86\\xa0\\xed\\x8d\\xbc, \\xec\\xb2\\xad\\xed\\x95\\x98) - When I Get Old.mp3\",\"upload_date\":\"2022-10-20\",\"description\":\"Christopher, CHUNG HA (\\xed\\x81\\xac\\xeb\\xa6\\xac\\xec\\x8a\\xa4\\xed\\x86\\xa0\\xed\\x8d\\xbc, \\xec\\xb2\\xad\\xed\\x95\\x98) - When I Get Old\\\\n\\\\n*\\xec\\x9d\\x8c\\xec\\x9b\\x90\\xeb\\x93\\xa3\\xea\\xb8\\xb0 https://WMK.lnk.to/WIGO\\\\n\\\\nWriter(s) : Christopher Nissen, Joakim Harestad Haukaas, Dag Holtan-Hartwig, Jeppe Nissen\\\\nVocals (Backing) : Christopher Nissen, CHUNG HA\\\\nVocals : Christopher Nissen, CHUNG HA\\\\nInstruments : Joki, Jeppe Nissen\\\\nMixer, Masterer : Jesper Vivid Vestergaard\\\\nVocal Director (CHUNG HA) : Fuxxy\\\\nEngineer (CHUNG HA) : Jung Eunkyeng\\\\nVideo by IT\\'S NOT SPRING\\\\n\\\\n#\\xed\\x81\\xac\\xeb\\xa6\\xac\\xec\\x8a\\xa4\\xed\\x86\\xa0\\xed\\x8d\\xbc #\\xec\\xb2\\xad\\xed\\x95\\x98 #WhenIGetOld\",\"view_count\":7879099,\"height\":null,\"abr\":134.492,\"thumbnailPath\":\"audio/Christopher, CHUNG HA (\\xed\\x81\\xac\\xeb\\xa6\\xac\\xec\\x8a\\xa4\\xed\\x86\\xa0\\xed\\x8d\\xbc, \\xec\\xb2\\xad\\xed\\x95\\x98) - When I Get Old.webp\",\"uid\":\"4ccacd54-790f-451a-ba24-a923a40acb50\",\"registered\":1678876763358}],\"playlists\":[]}'\n"
     ]
    }
   ],
   "source": [
    "import httpx\n",
    "\n",
    "class Downloader(httpx.Client):\n",
    "    def __init__(\n",
    "        self,\n",
    "        url: str = None,\n",
    "        api_key: str = None,\n",
    "    ) -> None:\n",
    "        \n",
    "        super(Downloader, self).__init__(\n",
    "            base_url=url,\n",
    "            headers={\n",
    "                \"Content-Type\": \"application/json\",\n",
    "            },\n",
    "            timeout=30,\n",
    "        )\n",
    "        \n",
    "        self.query_params = {\"apiKey\":api_key}\n",
    "    \n",
    "    def get_all_audio_files(self):\n",
    "        response: httpx.Response = self.get(\n",
    "            f\"/api/getMp3s\", params=self.query_params\n",
    "        )\n",
    "        \n",
    "        print(response.status_code)\n",
    "        print(response.content)\n",
    "        \n",
    "\n",
    "downloader = Downloader(\n",
    "    url=\"http://localhost:8998\",\n",
    "    api_key=\"7aee05f0-61e6-45c9-8ce7-e2b8544e9905\"\n",
    ")\n",
    "downloader.get_all_audio_files()"
   ]
  },
  {
   "cell_type": "code",
   "execution_count": null,
   "metadata": {},
   "outputs": [],
   "source": []
  }
 ],
 "metadata": {
  "kernelspec": {
   "display_name": "Python 3",
   "language": "python",
   "name": "python3"
  },
  "language_info": {
   "codemirror_mode": {
    "name": "ipython",
    "version": 3
   },
   "file_extension": ".py",
   "mimetype": "text/x-python",
   "name": "python",
   "nbconvert_exporter": "python",
   "pygments_lexer": "ipython3",
   "version": "3.11.2"
  },
  "orig_nbformat": 4
 },
 "nbformat": 4,
 "nbformat_minor": 2
}
